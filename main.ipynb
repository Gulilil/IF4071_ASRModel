{
 "cells": [
  {
   "cell_type": "markdown",
   "metadata": {},
   "source": [
    "## Importing Datasets"
   ]
  },
  {
   "cell_type": "code",
   "execution_count": 1,
   "metadata": {},
   "outputs": [],
   "source": [
    "import pandas as pd \n",
    "import numpy as np \n",
    "import os\n",
    "from datasets import load_dataset\n",
    "import soundfile as sf\n",
    "import json"
   ]
  },
  {
   "cell_type": "code",
   "execution_count": 2,
   "metadata": {},
   "outputs": [],
   "source": [
    "ds = load_dataset(\"holylovenia/TITML-IDN\")"
   ]
  },
  {
   "cell_type": "code",
   "execution_count": 3,
   "metadata": {},
   "outputs": [
    {
     "name": "stdout",
     "output_type": "stream",
     "text": [
      "(6682, 2)\n"
     ]
    }
   ],
   "source": [
    "DATA_LIST = []\n",
    "\n",
    "print(ds[\"train\"].shape)\n",
    "for audio_data in ds[\"train\"]:\n",
    "  audio = audio_data['audio']['array']\n",
    "  length = len(audio)\n",
    "  sampling_rate = audio_data['audio']['sampling_rate']\n",
    "  label = audio_data['label']\n",
    "  curr_data = {\n",
    "    \"audio\" : audio,\n",
    "    \"length\" : length,\n",
    "    \"sampling_rate\" : sampling_rate,\n",
    "    \"label\" : label\n",
    "  }\n",
    "  DATA_LIST.append(curr_data)"
   ]
  },
  {
   "cell_type": "code",
   "execution_count": null,
   "metadata": {},
   "outputs": [],
   "source": [
    "group = 20\n",
    "length = len(ds[\"train\"])\n",
    "amount = length // group\n",
    "count = 0\n",
    "\n",
    "start_idx = 0\n",
    "while start_idx < length:\n",
    "  extracted_data = []\n",
    "  end_idx = min(length, start_idx + amount)\n",
    "  \n",
    "  group_data = DATA_LIST[start_idx:end_idx]\n",
    "  for i in range(len(group_data)):\n",
    "    group_data[i][\"audio\"] = group_data[i][\"audio\"].tolist()\n",
    "    group_data[i][\"id\"] = i + start_idx + 1\n",
    "  f = open(os.path.join(\"data_extracted\", f\"extracted_{start_idx}_{end_idx}.json\"), 'w')\n",
    "  json.dump(group_data, f, indent=2)\n",
    "\n",
    "  start_idx += amount\n",
    "  print(f\"Finishing {start_idx} to {end_idx}\")\n"
   ]
  },
  {
   "cell_type": "markdown",
   "metadata": {},
   "source": [
    "## Process Data"
   ]
  },
  {
   "cell_type": "markdown",
   "metadata": {},
   "source": []
  }
 ],
 "metadata": {
  "kernelspec": {
   "display_name": "Python 3",
   "language": "python",
   "name": "python3"
  },
  "language_info": {
   "codemirror_mode": {
    "name": "ipython",
    "version": 3
   },
   "file_extension": ".py",
   "mimetype": "text/x-python",
   "name": "python",
   "nbconvert_exporter": "python",
   "pygments_lexer": "ipython3",
   "version": "3.11.3"
  }
 },
 "nbformat": 4,
 "nbformat_minor": 2
}
